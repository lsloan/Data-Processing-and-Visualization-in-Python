{
 "cells": [
  {
   "cell_type": "markdown",
   "metadata": {
    "nbpresent": {
     "id": "f77e2465-07f3-4ad0-ab0b-970cc19da161"
    }
   },
   "source": [
    "# <center> DATA PROCESSING IN PYTHON USING PANDAS<br/><br/> CSCAR WORKSHOP <br/><br/> 05/17/2018\n",
    "## <center> Marcio Duarte Albasini Mourao"
   ]
  },
  {
   "cell_type": "markdown",
   "metadata": {
    "collapsed": true
   },
   "source": [
    "# <center> Setup for Anaconda / Jupyter Notebook\n",
    "\n",
    "<ul>\n",
    "    <li>Go to the page https://marcio-mourao.github.io/</li>\n",
    "    <li>Download the materials under \"Data Processing and Visualization in Python\" to your \"username/Documents\"</li><br/>\n",
    "    \n",
    "    <li>Click the Windows button (Bottom Left Corner)</li>\n",
    "    <li>Click \"All apps\"</li>\n",
    "    <li>Click \"Anaconda3\"</li>\n",
    "    <li>Click \"Anaconda Prompt\" </li>\n",
    "    <ul>\n",
    "        <li>Enter \"conda update pandas\"</li>\n",
    "    </ul><br/>\n",
    "    \n",
    "    <li>Click the Windows button (Bottom Left Corner)</li>\n",
    "    <li>Click \"All apps\"</li>\n",
    "    <li>Click \"Anaconda3\"</li>\n",
    "    <li>Click \"Jupyter Notebook\" </li>\n",
    "    <li>Click \"Workshop.ipynb\" (this should open a new tab in the browser)</li>\n",
    "</ul>"
   ]
  },
  {
   "cell_type": "markdown",
   "metadata": {},
   "source": [
    "# <center> Introduction\n",
    "\n",
    "<ul>\n",
    "  <li>Please, sign up the sheet! </li>\n",
    "  <li>Don't forget to go to: http://cscar.research.umich.edu/ to know what we're offering!</li>\n",
    "  <li>Any questions/feedback, you can send an email to <a href=\"mailto:mdam@umich.edu\" target=\"_top\">Marcio.</a>\n",
    "</ul>"
   ]
  },
  {
   "cell_type": "markdown",
   "metadata": {},
   "source": [
    "# <center> Summary of this workshop\n",
    "\n",
    "<ul>\n",
    "  <li>Summary of Python Data Types</li><br>\n",
    "  <li>Pandas Dataframes</li>\n",
    "  <ul>\n",
    "      <li>Creation</li>\n",
    "      <li>Data Selection</li>\n",
    "      <li>Applying Functions, Grouping and Merging Data</li>\n",
    "      <li>Visualizing Data</li>\n",
    "  </ul><br>\n",
    "  <li>Simple statistics using Pandas dataframes</li>\n",
    "</ul>\n",
    "\n"
   ]
  },
  {
   "cell_type": "markdown",
   "metadata": {},
   "source": [
    "# <center> References\n",
    "\n",
    "<ul>\n",
    "  <li>https://www.continuum.io/anaconda-overview</li>\n",
    "  <li>http://www.numpy.org/</li>\n",
    "  <li>http://pandas.pydata.org/pandas-docs/stable/generated/pandas.DataFrame.html</li>\n",
    "  <li>http://pandas.pydata.org/pandas-docs/stable/10min.html</li>\n",
    "  <li>http://matplotlib.org/</li>\n",
    "  <li>http://www.statsmodels.org/stable/</li>\n",
    "</ul>"
   ]
  },
  {
   "cell_type": "markdown",
   "metadata": {},
   "source": [
    "## Imports relevant packages for this session"
   ]
  },
  {
   "cell_type": "code",
   "execution_count": null,
   "metadata": {
    "nbpresent": {
     "id": "56b6dfff-16a3-4ab8-b0cb-497226d0e34f"
    }
   },
   "outputs": [],
   "source": [
    "%matplotlib inline\n",
    "import numpy as np\n",
    "import pandas as pd"
   ]
  },
  {
   "cell_type": "code",
   "execution_count": null,
   "metadata": {},
   "outputs": [],
   "source": [
    "import sys\n",
    "print(sys.version)\n",
    "\n",
    "print(np.__version__)\n",
    "print(pd.__version__)"
   ]
  },
  {
   "cell_type": "markdown",
   "metadata": {},
   "source": [
    "# <center> Summary of Python Data Types"
   ]
  },
  {
   "cell_type": "markdown",
   "metadata": {},
   "source": [
    "## Python Simple Data Types\n",
    "##### Integers\n",
    "##### Floats\n",
    "##### Booleans"
   ]
  },
  {
   "cell_type": "markdown",
   "metadata": {},
   "source": [
    "## Python Data Structures"
   ]
  },
  {
   "cell_type": "markdown",
   "metadata": {},
   "source": [
    "### Lists"
   ]
  },
  {
   "cell_type": "code",
   "execution_count": null,
   "metadata": {},
   "outputs": [],
   "source": [
    "#An example of a list\n",
    "example_list = [2,4,'fg',8,[3,4]]\n",
    "\n",
    "print(type(example_list))\n",
    "print(example_list)\n",
    "print(example_list[0])\n",
    "print(example_list[2:4])\n",
    "print(example_list[-2])\n",
    "print(example_list[4][0])\n",
    "example_list[1]=100; print(example_list) # Modifies one element of the list"
   ]
  },
  {
   "cell_type": "markdown",
   "metadata": {},
   "source": [
    "### Tuples"
   ]
  },
  {
   "cell_type": "code",
   "execution_count": null,
   "metadata": {},
   "outputs": [],
   "source": [
    "#An example of a tuple\n",
    "example_tuple = (2,'df',6,8,10)\n",
    "\n",
    "print(example_tuple)\n",
    "print(example_tuple[3])\n",
    "print(example_tuple[1])\n",
    "#example_tuple[2]=20 # This should produce an error"
   ]
  },
  {
   "cell_type": "markdown",
   "metadata": {},
   "source": [
    "### Dictionary"
   ]
  },
  {
   "cell_type": "code",
   "execution_count": null,
   "metadata": {
    "scrolled": true
   },
   "outputs": [],
   "source": [
    "#An example of a dictionary\n",
    "example_dictionary = {'A':20,'B':40,'C':60}\n",
    "\n",
    "print(example_dictionary)\n",
    "print(example_dictionary['B'])\n",
    "example_dictionary['C']=100\n",
    "print(example_dictionary)\n",
    "#print(example_dictionary[0]) # This should produce an error"
   ]
  },
  {
   "cell_type": "markdown",
   "metadata": {},
   "source": [
    "### Numpy arrays"
   ]
  },
  {
   "cell_type": "code",
   "execution_count": null,
   "metadata": {},
   "outputs": [],
   "source": [
    "#An example of a numpy array\n",
    "example_array = np.array([2,4,'4',8,10])\n",
    "\n",
    "print(example_array)\n",
    "print(example_array[0])\n",
    "print(example_array[2:4])\n",
    "print(example_array[-2])\n",
    "example_array[2]=20; print(example_array) # Modifies one element of the numpy array"
   ]
  },
  {
   "cell_type": "markdown",
   "metadata": {},
   "source": [
    "### Pandas Series\n",
    "#### A one dimensional labeled array"
   ]
  },
  {
   "cell_type": "code",
   "execution_count": null,
   "metadata": {},
   "outputs": [],
   "source": [
    "#An example of a pandas series\n",
    "example_dictionary = {'A':20,'B':40,'C':60,'D':55}\n",
    "example_series = pd.Series(example_dictionary)\n",
    "\n",
    "print(example_series)\n",
    "print(example_series[0])\n",
    "print(example_series['A'])\n",
    "print(example_series['B':])"
   ]
  },
  {
   "cell_type": "markdown",
   "metadata": {},
   "source": [
    "# <center> Pandas dataframes\n",
    "### <center> A two-dimensional labeled data structure with columns of potentially different types"
   ]
  },
  {
   "cell_type": "code",
   "execution_count": null,
   "metadata": {},
   "outputs": [],
   "source": [
    "#Creation with a list\n",
    "aux_list=[['ds',1.0],\n",
    "          ['as',3],\n",
    "          ['bq',5]]\n",
    "\n",
    "example_DF = pd.DataFrame(aux_list,index=['Row1','Row2','Row3'],columns=['Col1','Col2'])\n",
    "example_DF"
   ]
  },
  {
   "cell_type": "code",
   "execution_count": null,
   "metadata": {},
   "outputs": [],
   "source": [
    "#Creation with a numpy array\n",
    "example_DF=pd.DataFrame(np.random.randint(0,10,(3,2)),index=['Row1','Row2','Row3'],columns=['Col1','Col2'])\n",
    "example_DF"
   ]
  },
  {
   "cell_type": "code",
   "execution_count": null,
   "metadata": {},
   "outputs": [],
   "source": [
    "#Creation with a dictionary\n",
    "example_DF=pd.DataFrame({'Col1':range(3),'Col2':pd.Series([4,5,6],index=[1,2,3])})\n",
    "example_DF"
   ]
  },
  {
   "cell_type": "markdown",
   "metadata": {},
   "source": [
    "## Read from external file"
   ]
  },
  {
   "cell_type": "code",
   "execution_count": null,
   "metadata": {},
   "outputs": [],
   "source": [
    "#Displays signature of the function\n",
    "?pd.read_csv"
   ]
  },
  {
   "cell_type": "code",
   "execution_count": null,
   "metadata": {},
   "outputs": [],
   "source": [
    "#Defines column names to read from the hospital.csv file and creates a dataframe with the data named 'patients'\n",
    "col_names=['id','name','sex','age','wgt','smoke','sys','dia']\n",
    "patients = pd.read_csv('hospital.csv',usecols=col_names)\n",
    "patients"
   ]
  },
  {
   "cell_type": "code",
   "execution_count": null,
   "metadata": {},
   "outputs": [],
   "source": [
    "#Displays the type of the object we are working with\n",
    "type(patients)"
   ]
  },
  {
   "cell_type": "code",
   "execution_count": null,
   "metadata": {},
   "outputs": [],
   "source": [
    "#Obtains the number of lines and columns of the dataframe\n",
    "patients.shape"
   ]
  },
  {
   "cell_type": "code",
   "execution_count": null,
   "metadata": {},
   "outputs": [],
   "source": [
    "#Obtains the dataframe main types\n",
    "patients.dtypes"
   ]
  },
  {
   "cell_type": "code",
   "execution_count": null,
   "metadata": {
    "nbpresent": {
     "id": "1862e15b-a819-4062-93a3-b68d3f0a0865"
    }
   },
   "outputs": [],
   "source": [
    "#Displays first lines of the dataframe\n",
    "patients.head(10)"
   ]
  },
  {
   "cell_type": "code",
   "execution_count": null,
   "metadata": {},
   "outputs": [],
   "source": [
    "#Displays last lines of the dataframe\n",
    "patients.tail(3)"
   ]
  },
  {
   "cell_type": "code",
   "execution_count": null,
   "metadata": {},
   "outputs": [],
   "source": [
    "#Returns a numpy array with the index values\n",
    "patients.index.values"
   ]
  },
  {
   "cell_type": "code",
   "execution_count": null,
   "metadata": {},
   "outputs": [],
   "source": [
    "#Returns a numpy array with the column values\n",
    "patients.columns.values"
   ]
  },
  {
   "cell_type": "code",
   "execution_count": null,
   "metadata": {},
   "outputs": [],
   "source": [
    "#Provides a statistical summary of the patients data\n",
    "patients.describe()"
   ]
  },
  {
   "cell_type": "code",
   "execution_count": null,
   "metadata": {},
   "outputs": [],
   "source": [
    "#Provides a statistical summary of the patients data\n",
    "patients.describe(include='all')"
   ]
  },
  {
   "cell_type": "code",
   "execution_count": null,
   "metadata": {},
   "outputs": [],
   "source": [
    "#Sorts the data along the specified axis\n",
    "patients.sort_index(axis=1).head()"
   ]
  },
  {
   "cell_type": "code",
   "execution_count": null,
   "metadata": {
    "scrolled": true
   },
   "outputs": [],
   "source": [
    "#Sorts the data by age and then sex in a specified order\n",
    "patients.sort_values(by=['age','sex'],ascending=[False,False]).head(10)"
   ]
  },
  {
   "cell_type": "code",
   "execution_count": null,
   "metadata": {},
   "outputs": [],
   "source": [
    "#Obtain ranking of the data\n",
    "patients.rank(method='min').head()"
   ]
  },
  {
   "cell_type": "code",
   "execution_count": null,
   "metadata": {},
   "outputs": [],
   "source": [
    "#Removes the 'name column on the dataframe\n",
    "patients=patients.drop(['name'],axis=1)\n",
    "patients.head()"
   ]
  },
  {
   "cell_type": "code",
   "execution_count": null,
   "metadata": {},
   "outputs": [],
   "source": [
    "#Sets the row index of the dataframe equal to the values on the 'id column\n",
    "patients=patients.set_index(np.array(patients['id']))\n",
    "patients.head()"
   ]
  },
  {
   "cell_type": "code",
   "execution_count": null,
   "metadata": {},
   "outputs": [],
   "source": [
    "#Removes the 'id column from the dataframe\n",
    "patients=patients.drop('id',axis=1)\n",
    "patients.head()"
   ]
  },
  {
   "cell_type": "code",
   "execution_count": null,
   "metadata": {},
   "outputs": [],
   "source": [
    "#Obtains the main types on the dataframe\n",
    "patients.dtypes"
   ]
  },
  {
   "cell_type": "markdown",
   "metadata": {},
   "source": [
    "## Selection"
   ]
  },
  {
   "cell_type": "code",
   "execution_count": null,
   "metadata": {},
   "outputs": [],
   "source": [
    "#Displays one of the series of the dataframe\n",
    "patients['age'].head()"
   ]
  },
  {
   "cell_type": "code",
   "execution_count": null,
   "metadata": {},
   "outputs": [],
   "source": [
    "#Displays the first three lines of the dataframe\n",
    "patients[:3]"
   ]
  },
  {
   "cell_type": "code",
   "execution_count": null,
   "metadata": {},
   "outputs": [],
   "source": [
    "#Retrieve the element in the first row and first column of the dataframe (specificed using integer indexes)\n",
    "patients.iat[0,0]"
   ]
  },
  {
   "cell_type": "code",
   "execution_count": null,
   "metadata": {},
   "outputs": [],
   "source": [
    "#Retrieve the element in the row and column of the dataframe (specified using string indexes)\n",
    "patients.at['PNI-258','age']"
   ]
  },
  {
   "cell_type": "code",
   "execution_count": null,
   "metadata": {},
   "outputs": [],
   "source": [
    "#Displays two specific lines and columns of the data (two ways of going about it)\n",
    "print(patients.index[[0,1]])\n",
    "print(patients.columns.get_indexer(['sex','smoke']))\n",
    "\n",
    "print(patients.loc[patients.index[[0,1]],['sex','smoke']])\n",
    "print(patients.iloc[[0,1],patients.columns.get_indexer(['sex','smoke'])])"
   ]
  },
  {
   "cell_type": "code",
   "execution_count": null,
   "metadata": {},
   "outputs": [],
   "source": [
    "#Displays lines 2,3,4 and columns 0,1 of the dataframe\n",
    "patients.iloc[2:5,:2]"
   ]
  },
  {
   "cell_type": "code",
   "execution_count": null,
   "metadata": {},
   "outputs": [],
   "source": [
    "#Check which patients are over the age of 48 (can be used as a boolean index)\n",
    "patients['age']>48"
   ]
  },
  {
   "cell_type": "code",
   "execution_count": null,
   "metadata": {},
   "outputs": [],
   "source": [
    "#Creates a boolean index and uses it to identify those with age greater than 48\n",
    "patients.loc[patients.age>48,:]"
   ]
  },
  {
   "cell_type": "markdown",
   "metadata": {},
   "source": [
    "## Applying Functions, Grouping and Merging Data\n"
   ]
  },
  {
   "cell_type": "code",
   "execution_count": null,
   "metadata": {},
   "outputs": [],
   "source": [
    "#Summarize the dataframe\n",
    "patients.describe(include='all')"
   ]
  },
  {
   "cell_type": "code",
   "execution_count": null,
   "metadata": {},
   "outputs": [],
   "source": [
    "#Obtains the mean of each one of the numerical columns on the dataframe\n",
    "patients.mean()"
   ]
  },
  {
   "cell_type": "code",
   "execution_count": null,
   "metadata": {},
   "outputs": [],
   "source": [
    "#Obtains the mean of each one of the columns on the dataframe\n",
    "patients.iloc[:,1:].apply(np.mean, axis=0)"
   ]
  },
  {
   "cell_type": "code",
   "execution_count": null,
   "metadata": {},
   "outputs": [],
   "source": [
    "#Obtains the cumulative sum along the columns\n",
    "patients.iloc[:,1:].apply(np.cumsum).head()"
   ]
  },
  {
   "cell_type": "code",
   "execution_count": null,
   "metadata": {},
   "outputs": [],
   "source": [
    "#Obtains the difference between the max and min for each one of the columns\n",
    "patients.iloc[:,1:].apply(lambda x: x.max() - x.min())"
   ]
  },
  {
   "cell_type": "code",
   "execution_count": null,
   "metadata": {},
   "outputs": [],
   "source": [
    "#Confirms the difference above for the column age\n",
    "patients['age'].max()-patients['age'].min()"
   ]
  },
  {
   "cell_type": "code",
   "execution_count": null,
   "metadata": {},
   "outputs": [],
   "source": [
    "#Obtains zscore\n",
    "from scipy.stats import zscore\n",
    "\n",
    "patients.iloc[:,1:].apply(zscore).describe()"
   ]
  },
  {
   "cell_type": "code",
   "execution_count": null,
   "metadata": {},
   "outputs": [],
   "source": [
    "#Groups the data by 'sex and obtains the mean of each column for each group\n",
    "patients.groupby('sex').mean()"
   ]
  },
  {
   "cell_type": "code",
   "execution_count": null,
   "metadata": {},
   "outputs": [],
   "source": [
    "#Groups the data by 'sex and then smoke and obtains the mean of each column for each group\n",
    "patients.groupby(['sex','smoke']).mean()"
   ]
  },
  {
   "cell_type": "code",
   "execution_count": null,
   "metadata": {},
   "outputs": [],
   "source": [
    "#The same as above\n",
    "patients.groupby(['sex','smoke']).apply(np.mean)"
   ]
  },
  {
   "cell_type": "code",
   "execution_count": null,
   "metadata": {},
   "outputs": [],
   "source": [
    "#Creates an array with three random row indexes from the dataframe and duplicates them\n",
    "sample_index=patients.index.values[np.random.randint(0,len(patients)-1,size=3)]\n",
    "sample_index"
   ]
  },
  {
   "cell_type": "code",
   "execution_count": null,
   "metadata": {},
   "outputs": [],
   "source": [
    "#Creates an array with three elements\n",
    "new_var=np.array(['Tall','Short','Tall'])\n",
    "new_var"
   ]
  },
  {
   "cell_type": "code",
   "execution_count": null,
   "metadata": {},
   "outputs": [],
   "source": [
    "#Create a new dataframe with two column variables\n",
    "new_patients = pd.DataFrame({'A':pd.Categorical(sample_index),'B':pd.Categorical(new_var)})\n",
    "new_patients"
   ]
  },
  {
   "cell_type": "code",
   "execution_count": null,
   "metadata": {},
   "outputs": [],
   "source": [
    "#Check types\n",
    "new_patients.dtypes"
   ]
  },
  {
   "cell_type": "code",
   "execution_count": null,
   "metadata": {},
   "outputs": [],
   "source": [
    "#Concatenate the new dataframe to create a slightly more interesting example\n",
    "new_patients=pd.concat([new_patients,new_patients])\n",
    "new_patients"
   ]
  },
  {
   "cell_type": "code",
   "execution_count": null,
   "metadata": {},
   "outputs": [],
   "source": [
    "#Displays the signature for the function merge\n",
    "?pd.merge"
   ]
  },
  {
   "cell_type": "code",
   "execution_count": null,
   "metadata": {},
   "outputs": [],
   "source": [
    "patients.dtypes"
   ]
  },
  {
   "cell_type": "code",
   "execution_count": null,
   "metadata": {},
   "outputs": [],
   "source": [
    "#Merges the data on the original dataframe (left dataframe) with the new dataframe (right dataframe)\n",
    "patients2=pd.merge(patients,new_patients,how='inner',left_index=True,right_on='A')\n",
    "patients2"
   ]
  },
  {
   "cell_type": "code",
   "execution_count": null,
   "metadata": {},
   "outputs": [],
   "source": [
    "patients2.shape"
   ]
  },
  {
   "cell_type": "code",
   "execution_count": null,
   "metadata": {},
   "outputs": [],
   "source": [
    "#Summarizes the new patients dataframe\n",
    "patients2.describe(include='all')"
   ]
  },
  {
   "cell_type": "markdown",
   "metadata": {},
   "source": [
    "## Write to external file"
   ]
  },
  {
   "cell_type": "code",
   "execution_count": null,
   "metadata": {},
   "outputs": [],
   "source": [
    "#Writes the new merged dataframe to csv and excel files\n",
    "patients2.to_csv('newData.csv')\n",
    "patients2.to_excel('newData.xlsx', sheet_name='Sheet1')"
   ]
  },
  {
   "cell_type": "markdown",
   "metadata": {},
   "source": [
    "## Visualizing the data"
   ]
  },
  {
   "cell_type": "code",
   "execution_count": null,
   "metadata": {},
   "outputs": [],
   "source": [
    "?patients.boxplot"
   ]
  },
  {
   "cell_type": "code",
   "execution_count": null,
   "metadata": {},
   "outputs": [],
   "source": [
    "#Creates a boxplot of the numerical columns on the dataframe\n",
    "patients.boxplot();"
   ]
  },
  {
   "cell_type": "code",
   "execution_count": null,
   "metadata": {},
   "outputs": [],
   "source": [
    "#Creates a boxplot grouped by sex\n",
    "patients.groupby('sex').boxplot();"
   ]
  },
  {
   "cell_type": "code",
   "execution_count": null,
   "metadata": {},
   "outputs": [],
   "source": [
    "#Creates a histogram of the numerical data on the dataframe patients\n",
    "patients.hist(grid='off');"
   ]
  },
  {
   "cell_type": "code",
   "execution_count": null,
   "metadata": {},
   "outputs": [],
   "source": [
    "#Creates a histogram of the numerical data on the dataframe 'patients grouped by 'smoke\n",
    "patients.groupby('smoke').hist(grid='off');"
   ]
  },
  {
   "cell_type": "code",
   "execution_count": null,
   "metadata": {},
   "outputs": [],
   "source": [
    "#Displays the histogram of 'weight grouped by 'smoke\n",
    "patients.groupby('smoke').wgt.hist();"
   ]
  },
  {
   "cell_type": "code",
   "execution_count": null,
   "metadata": {},
   "outputs": [],
   "source": [
    "#Creates a scatter matrix of the numerical data in the dataframe\n",
    "from pandas.plotting import scatter_matrix\n",
    "\n",
    "scatter_matrix(patients, alpha=1, figsize=(10, 10), diagonal='hist');"
   ]
  },
  {
   "cell_type": "markdown",
   "metadata": {},
   "source": [
    "## Linear Regression using Pandas"
   ]
  },
  {
   "cell_type": "code",
   "execution_count": null,
   "metadata": {},
   "outputs": [],
   "source": [
    "#A reminder of the variables we have\n",
    "patients.columns"
   ]
  },
  {
   "cell_type": "code",
   "execution_count": null,
   "metadata": {},
   "outputs": [],
   "source": [
    "#Convert smoke to object\n",
    "patients['smoke'] = patients['smoke'].astype('object')"
   ]
  },
  {
   "cell_type": "code",
   "execution_count": null,
   "metadata": {},
   "outputs": [],
   "source": [
    "#Check the types of the variables\n",
    "patients.dtypes"
   ]
  },
  {
   "cell_type": "code",
   "execution_count": null,
   "metadata": {},
   "outputs": [],
   "source": [
    "#Import statsmodels\n",
    "import statsmodels.formula.api as smf\n",
    "\n",
    "#Fit a linear regression model with only one covariate\n",
    "lrmfit = smf.ols('sys ~ age', data=patients).fit()"
   ]
  },
  {
   "cell_type": "code",
   "execution_count": null,
   "metadata": {},
   "outputs": [],
   "source": [
    "#Displays the outcome of the model fit\n",
    "print(lrmfit.summary())"
   ]
  },
  {
   "cell_type": "code",
   "execution_count": null,
   "metadata": {},
   "outputs": [],
   "source": [
    "#import matplotlib\n",
    "import matplotlib.pyplot as plt\n",
    "\n",
    "#Creates a scatter plot of 'sys' as a function of 'age'\n",
    "plt.figure()\n",
    "plt.scatter(patients['age'], patients['sys'], color='blue')\n",
    "plt.plot(patients['age'], lrmfit.predict(), color='red',linewidth=3)\n",
    "plt.xlabel('Age')\n",
    "plt.ylabel('Systolic Pressure')\n",
    "plt.legend(['Fit','Raw Data']);"
   ]
  },
  {
   "cell_type": "code",
   "execution_count": null,
   "metadata": {},
   "outputs": [],
   "source": [
    "#Just comparing the two R2s\n",
    "from scipy.stats.stats import pearsonr\n",
    "\n",
    "r2=pearsonr(patients.age,patients.sys)[0]**2\n",
    "\n",
    "print(r2)\n",
    "print(lrmfit.rsquared)"
   ]
  },
  {
   "cell_type": "code",
   "execution_count": null,
   "metadata": {},
   "outputs": [],
   "source": [
    "#Obtain pearson correlation as well as associated p-value\n",
    "pearsonr(patients.age,patients.sys)"
   ]
  },
  {
   "cell_type": "code",
   "execution_count": null,
   "metadata": {},
   "outputs": [],
   "source": [
    "#Obtain regression coefficient from pearson correlation\n",
    "pearsonr(patients.age,patients.sys)[0]*(np.std(patients['sys'])/np.std(patients['age']))"
   ]
  },
  {
   "cell_type": "code",
   "execution_count": null,
   "metadata": {},
   "outputs": [],
   "source": [
    "#Fit a linear regression model with all covariates\n",
    "mlrmfit = smf.ols('sys ~ sex + wgt + age + smoke', data=patients).fit()"
   ]
  },
  {
   "cell_type": "code",
   "execution_count": null,
   "metadata": {},
   "outputs": [],
   "source": [
    "#Displays the outcome of the model\n",
    "print(mlrmfit.summary())"
   ]
  },
  {
   "cell_type": "code",
   "execution_count": null,
   "metadata": {},
   "outputs": [],
   "source": [
    "#Obtain prediction for a new test set\n",
    "new_obs_DT=pd.DataFrame([['f',154,25,1],['m',100,20,0]], columns=['sex','wgt','age','smoke'])\n",
    "\n",
    "print(new_obs_DT)\n",
    "print(mlrmfit.predict(new_obs_DT))"
   ]
  }
 ],
 "metadata": {
  "anaconda-cloud": {},
  "kernelspec": {
   "display_name": "Python 3",
   "language": "python",
   "name": "python3"
  },
  "language_info": {
   "codemirror_mode": {
    "name": "ipython",
    "version": 3
   },
   "file_extension": ".py",
   "mimetype": "text/x-python",
   "name": "python",
   "nbconvert_exporter": "python",
   "pygments_lexer": "ipython3",
   "version": "3.6.4"
  },
  "nbpresent": {
   "slides": {
    "8ce21dab-2b7a-439c-8f0a-8a1036a1ac0d": {
     "id": "8ce21dab-2b7a-439c-8f0a-8a1036a1ac0d",
     "prev": null,
     "regions": {
      "d8401624-efe9-4853-a676-de863b4ba3cd": {
       "attrs": {
        "height": 1,
        "width": 1,
        "x": 0,
        "y": 0
       },
       "id": "d8401624-efe9-4853-a676-de863b4ba3cd"
      }
     },
     "theme": null
    }
   },
   "themes": {}
  }
 },
 "nbformat": 4,
 "nbformat_minor": 1
}
